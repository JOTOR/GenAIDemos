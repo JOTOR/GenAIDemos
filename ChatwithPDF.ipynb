{
 "cells": [
  {
   "cell_type": "markdown",
   "id": "28d49a19",
   "metadata": {},
   "source": [
    "# Chat with your PDF files\n",
    "Without including the source files\n",
    "___"
   ]
  },
  {
   "cell_type": "markdown",
   "id": "14782cb6",
   "metadata": {},
   "source": [
    "Installing required libraries"
   ]
  },
  {
   "cell_type": "code",
   "execution_count": 1,
   "id": "1b611e8a-c0fa-451c-badc-73a376d1953c",
   "metadata": {},
   "outputs": [],
   "source": [
    "#!pip install openai langchain pypdf chromadb docarray"
   ]
  },
  {
   "cell_type": "code",
   "execution_count": 2,
   "id": "f4b99c09-056f-4a06-9763-61da7b579c54",
   "metadata": {},
   "outputs": [],
   "source": [
    "import pandas as pd"
   ]
  },
  {
   "cell_type": "markdown",
   "id": "515bcc51",
   "metadata": {},
   "source": [
    "I saved my OPEN AI KEY as a csv file"
   ]
  },
  {
   "cell_type": "code",
   "execution_count": 3,
   "id": "e9f739c0-3765-4903-a000-3386636f520d",
   "metadata": {},
   "outputs": [],
   "source": [
    "k = pd.read_csv(\"keys.csv\")"
   ]
  },
  {
   "cell_type": "code",
   "execution_count": 4,
   "id": "639a8583-2f9a-4a56-b7d4-1cc18cf11091",
   "metadata": {},
   "outputs": [],
   "source": [
    "import os \n",
    "import openai\n",
    "os.environ['OPENAI_API_KEY'] = k[\"key\"][0] ## <- REPLACE WITH YOUR OWN OPEN AI KEY\n",
    "openai.api_key  = os.environ['OPENAI_API_KEY']"
   ]
  },
  {
   "cell_type": "markdown",
   "id": "09ece592-062c-4d36-a93d-2134d6f9c9a2",
   "metadata": {},
   "source": [
    "Document Loading"
   ]
  },
  {
   "cell_type": "code",
   "execution_count": 5,
   "id": "48c91263-c26c-4323-91cf-a4c8a9b45361",
   "metadata": {},
   "outputs": [
    {
     "name": "stdout",
     "output_type": "stream",
     "text": [
      "13\n"
     ]
    },
    {
     "data": {
      "text/plain": [
       "{'source': 'Reading from SQL Databases.pdf', 'page': 0}"
      ]
     },
     "execution_count": 5,
     "metadata": {},
     "output_type": "execute_result"
    }
   ],
   "source": [
    "from langchain.document_loaders import PyPDFLoader\n",
    "loader = PyPDFLoader(\"Reading from SQL Databases.pdf\")##<-REPLACE WITH YOUR PDF FILE\n",
    "pages = loader.load()\n",
    "print(len(pages))\n",
    "pages[0].metadata"
   ]
  },
  {
   "cell_type": "markdown",
   "id": "392cf657-937b-4076-b35a-41da8040949d",
   "metadata": {},
   "source": [
    "Split Documents"
   ]
  },
  {
   "cell_type": "code",
   "execution_count": 6,
   "id": "b63db3ef-7090-4df0-8fdb-bd6eceb43829",
   "metadata": {},
   "outputs": [
    {
     "name": "stdout",
     "output_type": "stream",
     "text": [
      "27\n"
     ]
    },
    {
     "data": {
      "text/plain": [
       "'S\\nQL (Structured Query Language)\\n▶Pronounced Ess Queue Ell orSequel\\n▶The package RODBC is used to read SQL databases (and other database\\nformats).\\n▶Load required package\\n> library(RODBC)\\n▶Get an overview of the package: library(help=RODBC)'"
      ]
     },
     "execution_count": 6,
     "metadata": {},
     "output_type": "execute_result"
    }
   ],
   "source": [
    "from langchain.text_splitter import RecursiveCharacterTextSplitter\n",
    "text_splitter = RecursiveCharacterTextSplitter(\n",
    "    chunk_size = 250,\n",
    "    chunk_overlap = 25\n",
    ")\n",
    "splits = text_splitter.split_documents(pages)\n",
    "print(len(splits))\n",
    "splits[1].page_content"
   ]
  },
  {
   "cell_type": "code",
   "execution_count": 7,
   "id": "d26c1afa-3393-41e5-b00e-1347019e311a",
   "metadata": {},
   "outputs": [],
   "source": [
    "#!pip install tiktoken"
   ]
  },
  {
   "cell_type": "markdown",
   "id": "7568e657-4510-4790-ba3b-38c9f5e46ee0",
   "metadata": {},
   "source": [
    "Vector Store"
   ]
  },
  {
   "cell_type": "code",
   "execution_count": 8,
   "id": "eb4bfde9-b558-4951-9d30-743b7b4c081f",
   "metadata": {},
   "outputs": [
    {
     "name": "stdout",
     "output_type": "stream",
     "text": [
      "27\n"
     ]
    }
   ],
   "source": [
    "from langchain.embeddings.openai import OpenAIEmbeddings\n",
    "embedding = OpenAIEmbeddings()\n",
    "from langchain.vectorstores import Chroma\n",
    "persist_directory = 'sagemaker-studiolab-notebooks/GenAIDemos/ChromaPDF/'\n",
    "vectordb = Chroma.from_documents(\n",
    "    documents=splits,\n",
    "    embedding=embedding,\n",
    "    persist_directory=persist_directory\n",
    ")\n",
    "vectordb.persist()\n",
    "\n",
    "#VectorStore is \"persisted\" once and then it can be reused removing the comments in the following lines\n",
    "# embedding = OpenAIEmbeddings()\n",
    "# vectordb = Chroma(persist_directory=persist_directory, embedding_function=embedding)\n",
    "# print(vectordb._collection.count())"
   ]
  },
  {
   "cell_type": "markdown",
   "id": "19fca717-8ab5-4ca9-b318-d4e1b545e93d",
   "metadata": {},
   "source": [
    "Chat Chain"
   ]
  },
  {
   "cell_type": "code",
   "execution_count": 9,
   "id": "09a10a43-f78e-4128-9a4c-0b06ef17cb1a",
   "metadata": {},
   "outputs": [],
   "source": [
    "from langchain.memory import ConversationBufferMemory\n",
    "memory = ConversationBufferMemory(\n",
    "    memory_key=\"chat_history\",\n",
    "    return_messages=True\n",
    ")\n",
    "\n",
    "from langchain.chat_models import ChatOpenAI\n",
    "llm = ChatOpenAI(model_name=\"gpt-3.5-turbo\", temperature=0)\n",
    "\n",
    "from langchain.chains import ConversationalRetrievalChain\n",
    "retriever=vectordb.as_retriever()\n",
    "\n",
    "qa = ConversationalRetrievalChain.from_llm(\n",
    "    llm,\n",
    "    retriever=retriever,\n",
    "    memory=memory\n",
    ")"
   ]
  },
  {
   "cell_type": "markdown",
   "id": "b2f2225c-3581-480b-a397-9597e60f9969",
   "metadata": {},
   "source": [
    "Chat With PDF"
   ]
  },
  {
   "cell_type": "code",
   "execution_count": 10,
   "id": "d3de0b47-938a-4d2e-9e54-05574c98dce2",
   "metadata": {},
   "outputs": [
    {
     "name": "stdout",
     "output_type": "stream",
     "text": [
      "To get all the rows from a table using R, you can use the `sqlFetch()` function. Here's an example:\n",
      "\n",
      "```R\n",
      "# Assuming you have a database connection named 'conn'\n",
      "# and you want to get all the rows from the 'manufacturer' table in the 'bi' schema\n",
      "\n",
      "mf <- sqlFetch(conn, \"bi.manufacturer\")\n",
      "```\n",
      "\n",
      "This will fetch all the rows from the 'manufacturer' table and store them in the 'mf' variable. You can then use the 'mf' variable to work with the data.\n"
     ]
    }
   ],
   "source": [
    "question = \"How can I get all the rows from a Table using R?\"\n",
    "result = qa({\"question\": question})\n",
    "print(result['answer'])"
   ]
  },
  {
   "cell_type": "code",
   "execution_count": 11,
   "id": "2832d35e-b898-4245-b865-38074a8d0c21",
   "metadata": {},
   "outputs": [
    {
     "name": "stdout",
     "output_type": "stream",
     "text": [
      "The RODBC library in the R language supports several data types, including smallint, integer, bigint, character, numeric, date, factor, varchar, and datetime.\n"
     ]
    }
   ],
   "source": [
    "question = \"How many data types are supported by RODBC library in R language?\"\n",
    "result = qa({\"question\": question})\n",
    "print(result['answer'])"
   ]
  },
  {
   "cell_type": "code",
   "execution_count": 12,
   "id": "55a19cb1-2d14-4f51-bbd1-5db9f8030eca",
   "metadata": {},
   "outputs": [
    {
     "data": {
      "text/plain": [
       "{'question': 'How many data types are supported by RODBC library in R language?',\n",
       " 'chat_history': [HumanMessage(content='How can I get all the rows from a Table using R?', additional_kwargs={}, example=False),\n",
       "  AIMessage(content='To get all the rows from a table using R, you can use the `sqlFetch()` function. Here\\'s an example:\\n\\n```R\\n# Assuming you have a database connection named \\'conn\\'\\n# and you want to get all the rows from the \\'manufacturer\\' table in the \\'bi\\' schema\\n\\nmf <- sqlFetch(conn, \"bi.manufacturer\")\\n```\\n\\nThis will fetch all the rows from the \\'manufacturer\\' table and store them in the \\'mf\\' variable. You can then use the \\'mf\\' variable to work with the data.', additional_kwargs={}, example=False),\n",
       "  HumanMessage(content='How many data types are supported by RODBC library in R language?', additional_kwargs={}, example=False),\n",
       "  AIMessage(content='The RODBC library in the R language supports several data types, including smallint, integer, bigint, character, numeric, date, factor, varchar, and datetime.', additional_kwargs={}, example=False)],\n",
       " 'answer': 'The RODBC library in the R language supports several data types, including smallint, integer, bigint, character, numeric, date, factor, varchar, and datetime.'}"
      ]
     },
     "execution_count": 12,
     "metadata": {},
     "output_type": "execute_result"
    }
   ],
   "source": [
    "result"
   ]
  },
  {
   "cell_type": "code",
   "execution_count": 13,
   "id": "11de2f81-693e-49aa-8308-9c9afab93072",
   "metadata": {},
   "outputs": [
    {
     "data": {
      "text/plain": [
       "'The RODBC library in R supports the following data types:\\n\\n- smallint: integer\\n- integer: integer\\n- bigint: integer\\n- character: character\\n- numeric: numeric\\n- date: factor\\n- varchar: integer or factor\\n- datetime: character\\n- POSIXct: character'"
      ]
     },
     "execution_count": 13,
     "metadata": {},
     "output_type": "execute_result"
    }
   ],
   "source": [
    "qa.run(\"How many data types are supported by RODBC library in R language?\")"
   ]
  }
 ],
 "metadata": {
  "kernelspec": {
   "display_name": "default:Python",
   "language": "python",
   "name": "conda-env-default-py"
  },
  "language_info": {
   "codemirror_mode": {
    "name": "ipython",
    "version": 3
   },
   "file_extension": ".py",
   "mimetype": "text/x-python",
   "name": "python",
   "nbconvert_exporter": "python",
   "pygments_lexer": "ipython3",
   "version": "3.9.10"
  }
 },
 "nbformat": 4,
 "nbformat_minor": 5
}
