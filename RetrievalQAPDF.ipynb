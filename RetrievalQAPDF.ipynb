{
 "cells": [
  {
   "cell_type": "markdown",
   "id": "34c7ce28",
   "metadata": {},
   "source": [
    "# RetrievalQA Chain\n",
    "Chat with PDF Files\n",
    "___"
   ]
  },
  {
   "cell_type": "markdown",
   "id": "9451c838",
   "metadata": {},
   "source": [
    "Installing required libraries"
   ]
  },
  {
   "cell_type": "code",
   "execution_count": 1,
   "id": "1b611e8a-c0fa-451c-badc-73a376d1953c",
   "metadata": {},
   "outputs": [],
   "source": [
    "#!pip install openai langchain pypdf chromadb docarray"
   ]
  },
  {
   "cell_type": "code",
   "execution_count": 2,
   "id": "f4b99c09-056f-4a06-9763-61da7b579c54",
   "metadata": {},
   "outputs": [],
   "source": [
    "import pandas as pd"
   ]
  },
  {
   "cell_type": "markdown",
   "id": "6d52861f",
   "metadata": {},
   "source": [
    "I saved my OPEN AI KEY as a csv file"
   ]
  },
  {
   "cell_type": "code",
   "execution_count": 3,
   "id": "e9f739c0-3765-4903-a000-3386636f520d",
   "metadata": {},
   "outputs": [],
   "source": [
    "k = pd.read_csv(\"keys.csv\")"
   ]
  },
  {
   "cell_type": "code",
   "execution_count": 4,
   "id": "639a8583-2f9a-4a56-b7d4-1cc18cf11091",
   "metadata": {},
   "outputs": [],
   "source": [
    "import os \n",
    "import openai\n",
    "os.environ['OPENAI_API_KEY'] = k[\"key\"][0] ## <- REPLACE WITH YOUR OWN OPEN AI KEY\n",
    "openai.api_key  = os.environ['OPENAI_API_KEY']"
   ]
  },
  {
   "cell_type": "code",
   "execution_count": 5,
   "id": "5824ef4b-56fb-4c9a-b78d-bd12de675a40",
   "metadata": {},
   "outputs": [],
   "source": [
    "from langchain.vectorstores import Chroma\n",
    "from langchain.embeddings.openai import OpenAIEmbeddings\n",
    "persist_directory = 'sagemaker-studiolab-notebooks/GenAIDemos/ChromaPDF/'\n",
    "embedding = OpenAIEmbeddings()\n",
    "vectordb = Chroma(persist_directory=persist_directory, embedding_function=embedding)"
   ]
  },
  {
   "cell_type": "markdown",
   "id": "570f0a72",
   "metadata": {},
   "source": [
    "PDF Document is not read, the vectors of the different text chunks are retrieved from the database"
   ]
  },
  {
   "cell_type": "code",
   "execution_count": 6,
   "id": "d57a90ce-ccf7-4526-8795-fe661df508f6",
   "metadata": {},
   "outputs": [
    {
     "name": "stdout",
     "output_type": "stream",
     "text": [
      "27\n"
     ]
    }
   ],
   "source": [
    "print(vectordb._collection.count())"
   ]
  },
  {
   "cell_type": "code",
   "execution_count": 10,
   "id": "9d45766f-09c7-4a65-a57f-7eae86ee33ba",
   "metadata": {},
   "outputs": [],
   "source": [
    "from langchain.chat_models import ChatOpenAI\n",
    "llm = ChatOpenAI(model_name=\"gpt-3.5-turbo\", temperature=0)"
   ]
  },
  {
   "cell_type": "code",
   "execution_count": 29,
   "id": "f0c0854f-500f-4000-99d0-b22aa598bf10",
   "metadata": {},
   "outputs": [],
   "source": [
    "from langchain.chains import RetrievalQA, ConversationalRetrievalChain"
   ]
  },
  {
   "cell_type": "code",
   "execution_count": 30,
   "id": "afc39c47-66d5-484b-a7a0-31856eaecb6e",
   "metadata": {},
   "outputs": [],
   "source": [
    "from langchain.prompts import PromptTemplate\n",
    "\n",
    "# Build prompt\n",
    "template = \"\"\"Use the following pieces of context to answer the question at the end. If you don't know the answer, \n",
    "just say that you don't know, don't try to make up an answer. Use three sentences maximum. Keep the answer as concise as possible. \n",
    "{context}\n",
    "Question: {question}\n",
    "Helpful Answer:\"\"\"\n",
    "QA_CHAIN_PROMPT = PromptTemplate.from_template(template)"
   ]
  },
  {
   "cell_type": "markdown",
   "id": "5811dbf9",
   "metadata": {},
   "source": [
    "Notice the \"chain\" is not using memory, as a result, follow up questions could produce incorrect answers or results"
   ]
  },
  {
   "cell_type": "code",
   "execution_count": 40,
   "id": "ae866b82-c7f7-463d-ab45-f1f1521ad886",
   "metadata": {},
   "outputs": [],
   "source": [
    "# Run chain\n",
    "qa_chain = RetrievalQA.from_chain_type(\n",
    "    llm,\n",
    "    retriever=vectordb.as_retriever(),\n",
    "    return_source_documents=True,\n",
    "    chain_type_kwargs={\"prompt\": QA_CHAIN_PROMPT}\n",
    ")"
   ]
  },
  {
   "cell_type": "code",
   "execution_count": 41,
   "id": "5a5ed7a1-3bb2-4f92-a2b2-bb2297bd3ee2",
   "metadata": {},
   "outputs": [],
   "source": [
    "question = \"How can I fetch all the rows from a Table?\""
   ]
  },
  {
   "cell_type": "code",
   "execution_count": 42,
   "id": "57d4553c-ded3-47d0-891f-b05beaebef8e",
   "metadata": {},
   "outputs": [],
   "source": [
    "result = qa_chain({\"query\": question})"
   ]
  },
  {
   "cell_type": "code",
   "execution_count": 43,
   "id": "809a0a87-4a11-4d09-8b3c-8662299ee8e6",
   "metadata": {},
   "outputs": [
    {
     "name": "stdout",
     "output_type": "stream",
     "text": [
      "To fetch all the rows from a table, you can use the sqlFetch() function in R. This function reads a table from an ODBC database into a data frame, allowing you to access all the rows and columns of the table.\n"
     ]
    }
   ],
   "source": [
    "print(result[\"result\"])"
   ]
  },
  {
   "cell_type": "code",
   "execution_count": 44,
   "id": "192c03d1-dfd8-4797-81e2-815b37342aec",
   "metadata": {},
   "outputs": [
    {
     "data": {
      "text/plain": [
       "{'page': 9, 'source': 'Reading from SQL Databases.pdf'}"
      ]
     },
     "execution_count": 44,
     "metadata": {},
     "output_type": "execute_result"
    }
   ],
   "source": [
    "result[\"source_documents\"][0].metadata"
   ]
  },
  {
   "cell_type": "code",
   "execution_count": 45,
   "id": "e1069657-09e3-40ad-b3df-9f4d03d14e65",
   "metadata": {},
   "outputs": [
    {
     "name": "stdout",
     "output_type": "stream",
     "text": [
      "There are six R datatypes supported: integer, factor, numeric, character, date, and POSIXct.\n"
     ]
    }
   ],
   "source": [
    "print(qa_chain({\"query\": \"How many R Datatypes are supported?\"})[\"result\"])"
   ]
  }
 ],
 "metadata": {
  "kernelspec": {
   "display_name": "default:Python",
   "language": "python",
   "name": "conda-env-default-py"
  },
  "language_info": {
   "codemirror_mode": {
    "name": "ipython",
    "version": 3
   },
   "file_extension": ".py",
   "mimetype": "text/x-python",
   "name": "python",
   "nbconvert_exporter": "python",
   "pygments_lexer": "ipython3",
   "version": "3.9.10"
  }
 },
 "nbformat": 4,
 "nbformat_minor": 5
}
