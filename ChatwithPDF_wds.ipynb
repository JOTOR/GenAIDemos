{
 "cells": [
  {
   "cell_type": "markdown",
   "id": "c69ccf59",
   "metadata": {},
   "source": [
    "# Chat with your PDF Files\n",
    "Including source documents\n",
    "___"
   ]
  },
  {
   "cell_type": "markdown",
   "id": "b174526e",
   "metadata": {},
   "source": [
    "Installing required libraries"
   ]
  },
  {
   "cell_type": "code",
   "execution_count": 1,
   "id": "1b611e8a-c0fa-451c-badc-73a376d1953c",
   "metadata": {},
   "outputs": [],
   "source": [
    "#!pip install openai langchain pypdf chromadb docarray"
   ]
  },
  {
   "cell_type": "code",
   "execution_count": 2,
   "id": "f4b99c09-056f-4a06-9763-61da7b579c54",
   "metadata": {},
   "outputs": [],
   "source": [
    "import pandas as pd"
   ]
  },
  {
   "cell_type": "markdown",
   "id": "1763075b",
   "metadata": {},
   "source": [
    "I saved my OPEN AI KEY as a csv file"
   ]
  },
  {
   "cell_type": "code",
   "execution_count": 3,
   "id": "e9f739c0-3765-4903-a000-3386636f520d",
   "metadata": {},
   "outputs": [],
   "source": [
    "k = pd.read_csv(\"keys.csv\")"
   ]
  },
  {
   "cell_type": "code",
   "execution_count": 4,
   "id": "639a8583-2f9a-4a56-b7d4-1cc18cf11091",
   "metadata": {},
   "outputs": [],
   "source": [
    "import os \n",
    "import openai\n",
    "os.environ['OPENAI_API_KEY'] = k[\"key\"][0] ## <- REPLACE WITH YOUR OWN OPEN AI KEY\n",
    "openai.api_key  = os.environ['OPENAI_API_KEY']"
   ]
  },
  {
   "cell_type": "markdown",
   "id": "09ece592-062c-4d36-a93d-2134d6f9c9a2",
   "metadata": {},
   "source": [
    "Document Loading"
   ]
  },
  {
   "cell_type": "code",
   "execution_count": 5,
   "id": "48c91263-c26c-4323-91cf-a4c8a9b45361",
   "metadata": {},
   "outputs": [
    {
     "name": "stdout",
     "output_type": "stream",
     "text": [
      "13\n"
     ]
    },
    {
     "data": {
      "text/plain": [
       "{'source': 'Reading from SQL Databases.pdf', 'page': 0}"
      ]
     },
     "execution_count": 5,
     "metadata": {},
     "output_type": "execute_result"
    }
   ],
   "source": [
    "from langchain.document_loaders import PyPDFLoader\n",
    "loader = PyPDFLoader(\"Reading from SQL Databases.pdf\") ##<-REPLACE WITH YOUR PDF FILE\n",
    "pages = loader.load()\n",
    "print(len(pages))\n",
    "pages[0].metadata"
   ]
  },
  {
   "cell_type": "markdown",
   "id": "392cf657-937b-4076-b35a-41da8040949d",
   "metadata": {},
   "source": [
    "Split Documents"
   ]
  },
  {
   "cell_type": "code",
   "execution_count": 6,
   "id": "b63db3ef-7090-4df0-8fdb-bd6eceb43829",
   "metadata": {},
   "outputs": [
    {
     "name": "stdout",
     "output_type": "stream",
     "text": [
      "27\n"
     ]
    },
    {
     "data": {
      "text/plain": [
       "'S\\nQL (Structured Query Language)\\n▶Pronounced Ess Queue Ell orSequel\\n▶The package RODBC is used to read SQL databases (and other database\\nformats).\\n▶Load required package\\n> library(RODBC)\\n▶Get an overview of the package: library(help=RODBC)'"
      ]
     },
     "execution_count": 6,
     "metadata": {},
     "output_type": "execute_result"
    }
   ],
   "source": [
    "from langchain.text_splitter import RecursiveCharacterTextSplitter\n",
    "text_splitter = RecursiveCharacterTextSplitter(\n",
    "    chunk_size = 250,\n",
    "    chunk_overlap = 25\n",
    ")\n",
    "splits = text_splitter.split_documents(pages)\n",
    "print(len(splits))\n",
    "splits[1].page_content"
   ]
  },
  {
   "cell_type": "code",
   "execution_count": 7,
   "id": "d26c1afa-3393-41e5-b00e-1347019e311a",
   "metadata": {},
   "outputs": [],
   "source": [
    "#!pip install tiktoken"
   ]
  },
  {
   "cell_type": "markdown",
   "id": "7568e657-4510-4790-ba3b-38c9f5e46ee0",
   "metadata": {},
   "source": [
    "Vector Store"
   ]
  },
  {
   "cell_type": "code",
   "execution_count": 8,
   "id": "eb4bfde9-b558-4951-9d30-743b7b4c081f",
   "metadata": {},
   "outputs": [
    {
     "name": "stdout",
     "output_type": "stream",
     "text": [
      "27\n"
     ]
    }
   ],
   "source": [
    "from langchain.embeddings.openai import OpenAIEmbeddings\n",
    "embedding = OpenAIEmbeddings()\n",
    "from langchain.vectorstores import Chroma\n",
    "persist_directory = 'sagemaker-studiolab-notebooks/GenAIDemos/ChromaPDF/'\n",
    "\n",
    "vectordb = Chroma.from_documents(\n",
    "    documents=splits,\n",
    "    embedding=embedding,\n",
    "    persist_directory=persist_directory\n",
    ")\n",
    "vectordb.persist()\n",
    "\n",
    "#VectorStore is \"persisted\" once and then it can be reused removing the comments in the following lines\n",
    "# embedding = OpenAIEmbeddings()\n",
    "# vectordb = Chroma(persist_directory=persist_directory, embedding_function=embedding)\n",
    "# print(vectordb._collection.count())"
   ]
  },
  {
   "cell_type": "markdown",
   "id": "19fca717-8ab5-4ca9-b318-d4e1b545e93d",
   "metadata": {},
   "source": [
    "Chat Chain"
   ]
  },
  {
   "cell_type": "code",
   "execution_count": 19,
   "id": "09a10a43-f78e-4128-9a4c-0b06ef17cb1a",
   "metadata": {},
   "outputs": [],
   "source": [
    "from langchain.chat_models import ChatOpenAI\n",
    "llm = ChatOpenAI(model_name=\"gpt-3.5-turbo\", temperature=0)\n",
    "\n",
    "from langchain.chains import ConversationalRetrievalChain\n",
    "\n",
    "retriever=vectordb.as_retriever()\n",
    "\n",
    "qa = ConversationalRetrievalChain.from_llm(\n",
    "    llm,\n",
    "    retriever=retriever,\n",
    "    return_source_documents = True\n",
    ")"
   ]
  },
  {
   "cell_type": "markdown",
   "id": "b2f2225c-3581-480b-a397-9597e60f9969",
   "metadata": {},
   "source": [
    "Chat With PDF"
   ]
  },
  {
   "cell_type": "code",
   "execution_count": 20,
   "id": "89c4d09b-b2e6-471e-8e57-b949d0204ba4",
   "metadata": {},
   "outputs": [],
   "source": [
    "chat_history = []"
   ]
  },
  {
   "cell_type": "code",
   "execution_count": 21,
   "id": "eb2e1cca-ec98-4da9-9364-d573f97f8b08",
   "metadata": {},
   "outputs": [
    {
     "name": "stdout",
     "output_type": "stream",
     "text": [
      "Question:  How can I fetch all the rows from a table?\n"
     ]
    },
    {
     "name": "stdout",
     "output_type": "stream",
     "text": [
      "AI Answer: To fetch all the rows from a table, you can use the `sqlFetch()` function in R. Here is an example:\n",
      "\n",
      "```R\n",
      "# Assuming you have already established a connection to the database\n",
      "# and assigned it to the variable 'conn'\n",
      "\n",
      "# Fetch all rows from the table 'manufacturer' in the 'bi' schema\n",
      "data <- sqlFetch(conn, \"bi.manufacturer\")\n",
      "\n",
      "# Print the fetched data\n",
      "print(data)\n",
      "```\n",
      "\n",
      "This will fetch all the rows from the specified table and store them in the `data` variable. You can then manipulate or analyze the data as needed.\n",
      "----------------------------------\n",
      "Source Document: {'page': 9, 'source': 'Reading from SQL Databases.pdf'}\n",
      "----------------------------------\n",
      "Source Document: G\n",
      "etting a table\n",
      "▶UsesqlFetch to get a table from the database.\n",
      "▶Get the table ’manufacturer’ from SCHEMA ’bi’:\n",
      "> mf <- sqlFetch(conn,\"bi.manufacturer\")\n",
      "> mf\n",
      "ManufacturerID Manufacturer\n",
      "1 1 Abbas\n",
      "2 2 Aliqui\n",
      "3 3 Barba\n",
      "4 4 Currus\n",
      "5 5 Fama\n",
      "6 6 Leo\n",
      "==================================\n",
      "\n",
      "\n"
     ]
    },
    {
     "name": "stdout",
     "output_type": "stream",
     "text": [
      "Question:  quit\n"
     ]
    },
    {
     "name": "stdout",
     "output_type": "stream",
     "text": [
      "AI Answer: To quit the program, you can use the \"q()\" function in R. This will exit the R session.\n",
      "----------------------------------\n",
      "Source Document: {'page': 12, 'source': 'Reading from SQL Databases.pdf'}\n",
      "----------------------------------\n",
      "Source Document: Other operating systems\n",
      "Instructions for Ubuntu Linux 14.04:\n",
      "▶Install the required drivers and RODBC package via the commandline :\n",
      "sudo apt-get install r-cran-rodbc unixodbc-bin unixodbc odbcinst freetds-bin tdsodbc\n",
      "==================================\n",
      "\n",
      "\n"
     ]
    }
   ],
   "source": [
    "while True: \n",
    "    query = input(\"Question: \")\n",
    "    results = qa({\"question\":query, \"chat_history\":chat_history})\n",
    "    print(\"AI Answer: \"+results[\"answer\"])\n",
    "    print(\"----------------------------------\")\n",
    "    print(\"Source Document: \"+str(results[\"source_documents\"][0].metadata)) \n",
    "    print(\"----------------------------------\")\n",
    "    print(\"Source Document: \"+str(results[\"source_documents\"][1].page_content)) \n",
    "    chat_history.append((query, results[\"answer\"]))\n",
    "    print(\"==================================\")\n",
    "    print(\"\\n\")\n",
    "    if query == \"quit\":\n",
    "        break"
   ]
  },
  {
   "cell_type": "markdown",
   "id": "e8ce79fb",
   "metadata": {},
   "source": [
    "Comparing results against **Max Marginal Relevance (MMR)**"
   ]
  },
  {
   "cell_type": "code",
   "execution_count": 28,
   "id": "ccca5c5d-4936-49aa-9269-9ceab6c49cde",
   "metadata": {},
   "outputs": [],
   "source": [
    "result_mmr = vectordb.max_marginal_relevance_search(query=\"How many data types are supported?\", k=3)"
   ]
  },
  {
   "cell_type": "code",
   "execution_count": 29,
   "id": "c18fd312-14e1-4a6f-8b8f-fe05c83a9f63",
   "metadata": {},
   "outputs": [
    {
     "name": "stdout",
     "output_type": "stream",
     "text": [
      "Da\n",
      "ta types\n",
      "▶Classes of variables on the Rside:\n",
      "> sapply(df, class)\n",
      "ProductID Date Zip Units Revenue\n",
      "\"integer\" \"factor\" \"integer\" \"integer\" \"numeric\"\n",
      "▶Recall that the variable ’Zip’ was stored as the SQL speciﬁc type ’varchar’.\n"
     ]
    }
   ],
   "source": [
    "print(result_mmr[0].page_content)"
   ]
  },
  {
   "cell_type": "code",
   "execution_count": 30,
   "id": "26ade556-23ce-4094-8cf1-9a99d903492a",
   "metadata": {},
   "outputs": [],
   "source": [
    "result_mmr = vectordb.max_marginal_relevance_search(query=\"How can I submit a query to fetch rows from a table?\", k=3)"
   ]
  },
  {
   "cell_type": "code",
   "execution_count": 31,
   "id": "3507f712-5600-4ae9-875f-093f61956cff",
   "metadata": {},
   "outputs": [
    {
     "name": "stdout",
     "output_type": "stream",
     "text": [
      "S\n",
      "ubmit real SQL\n",
      "▶UsesqlQuery for more advanced queries.\n",
      "▶SQL syntax example:\n",
      "SELECT Manufacturer FROM bi.manufacturer WHERE ManufacturerID < 10\n",
      "▶Submit query to R:\n",
      "> query <- \"\n",
      "+ SELECT Manufacturer\n",
      "+ FROM bi.manufacturer\n",
      "+ WHERE ManufacturerID < 10\n"
     ]
    }
   ],
   "source": [
    "print(result_mmr[0].page_content)"
   ]
  }
 ],
 "metadata": {
  "kernelspec": {
   "display_name": "default:Python",
   "language": "python",
   "name": "conda-env-default-py"
  },
  "language_info": {
   "codemirror_mode": {
    "name": "ipython",
    "version": 3
   },
   "file_extension": ".py",
   "mimetype": "text/x-python",
   "name": "python",
   "nbconvert_exporter": "python",
   "pygments_lexer": "ipython3",
   "version": "3.9.10"
  }
 },
 "nbformat": 4,
 "nbformat_minor": 5
}
