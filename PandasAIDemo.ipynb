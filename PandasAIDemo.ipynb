{
 "cells": [
  {
   "cell_type": "markdown",
   "id": "a7f8becd",
   "metadata": {},
   "source": [
    "# PandasAI Demo\n",
    "Chat with your CSV files <br>\n",
    "https://github.com/gventuri/pandas-ai\n",
    "___"
   ]
  },
  {
   "cell_type": "markdown",
   "id": "ebd45b64",
   "metadata": {},
   "source": [
    "Installing required libraries"
   ]
  },
  {
   "cell_type": "code",
   "execution_count": 1,
   "id": "1b611e8a-c0fa-451c-badc-73a376d1953c",
   "metadata": {},
   "outputs": [],
   "source": [
    "#!pip install openai langchain pypdf chromadb docarray"
   ]
  },
  {
   "cell_type": "code",
   "execution_count": 2,
   "id": "f47466e0-4cce-47f5-8797-0caf24422e7b",
   "metadata": {},
   "outputs": [],
   "source": [
    "#!pip install pandasai"
   ]
  },
  {
   "cell_type": "code",
   "execution_count": 3,
   "id": "cf989528-ce11-4305-ba92-74bc97fcf2aa",
   "metadata": {},
   "outputs": [],
   "source": [
    "import pandas as pd\n",
    "from pandasai import SmartDataframe"
   ]
  },
  {
   "cell_type": "code",
   "execution_count": 4,
   "id": "9fea49ed-f686-45d0-91ab-5979279aeb1c",
   "metadata": {},
   "outputs": [],
   "source": [
    "df = pd.read_csv(\"Lemonade2016.csv\") ## <- REPLACE WITH YOUR CSV FILE"
   ]
  },
  {
   "cell_type": "code",
   "execution_count": 5,
   "id": "ab0a0183-7289-4228-88d7-0da1029af2fb",
   "metadata": {},
   "outputs": [
    {
     "data": {
      "text/html": [
       "<div>\n",
       "<style scoped>\n",
       "    .dataframe tbody tr th:only-of-type {\n",
       "        vertical-align: middle;\n",
       "    }\n",
       "\n",
       "    .dataframe tbody tr th {\n",
       "        vertical-align: top;\n",
       "    }\n",
       "\n",
       "    .dataframe thead th {\n",
       "        text-align: right;\n",
       "    }\n",
       "</style>\n",
       "<table border=\"1\" class=\"dataframe\">\n",
       "  <thead>\n",
       "    <tr style=\"text-align: right;\">\n",
       "      <th></th>\n",
       "      <th>Date</th>\n",
       "      <th>Location</th>\n",
       "      <th>Lemon</th>\n",
       "      <th>Orange</th>\n",
       "      <th>Temperature</th>\n",
       "      <th>Leaflets</th>\n",
       "      <th>Price</th>\n",
       "    </tr>\n",
       "  </thead>\n",
       "  <tbody>\n",
       "    <tr>\n",
       "      <th>0</th>\n",
       "      <td>7/1/2016</td>\n",
       "      <td>Park</td>\n",
       "      <td>97.0</td>\n",
       "      <td>67.0</td>\n",
       "      <td>70</td>\n",
       "      <td>90.0</td>\n",
       "      <td>0.25</td>\n",
       "    </tr>\n",
       "    <tr>\n",
       "      <th>1</th>\n",
       "      <td>7/2/2016</td>\n",
       "      <td>Park</td>\n",
       "      <td>98.0</td>\n",
       "      <td>67.0</td>\n",
       "      <td>72</td>\n",
       "      <td>90.0</td>\n",
       "      <td>0.25</td>\n",
       "    </tr>\n",
       "    <tr>\n",
       "      <th>2</th>\n",
       "      <td>7/3/2016</td>\n",
       "      <td>Park</td>\n",
       "      <td>110.0</td>\n",
       "      <td>77.0</td>\n",
       "      <td>71</td>\n",
       "      <td>104.0</td>\n",
       "      <td>0.25</td>\n",
       "    </tr>\n",
       "    <tr>\n",
       "      <th>3</th>\n",
       "      <td>7/4/2016</td>\n",
       "      <td>Beach</td>\n",
       "      <td>134.0</td>\n",
       "      <td>99.0</td>\n",
       "      <td>76</td>\n",
       "      <td>98.0</td>\n",
       "      <td>0.25</td>\n",
       "    </tr>\n",
       "    <tr>\n",
       "      <th>4</th>\n",
       "      <td>7/5/2016</td>\n",
       "      <td>Beach</td>\n",
       "      <td>159.0</td>\n",
       "      <td>118.0</td>\n",
       "      <td>78</td>\n",
       "      <td>135.0</td>\n",
       "      <td>0.25</td>\n",
       "    </tr>\n",
       "  </tbody>\n",
       "</table>\n",
       "</div>"
      ],
      "text/plain": [
       "       Date Location  Lemon  Orange  Temperature  Leaflets  Price\n",
       "0  7/1/2016     Park   97.0    67.0           70      90.0   0.25\n",
       "1  7/2/2016     Park   98.0    67.0           72      90.0   0.25\n",
       "2  7/3/2016     Park  110.0    77.0           71     104.0   0.25\n",
       "3  7/4/2016    Beach  134.0    99.0           76      98.0   0.25\n",
       "4  7/5/2016    Beach  159.0   118.0           78     135.0   0.25"
      ]
     },
     "execution_count": 5,
     "metadata": {},
     "output_type": "execute_result"
    }
   ],
   "source": [
    "df.head()"
   ]
  },
  {
   "cell_type": "markdown",
   "id": "2419eaea",
   "metadata": {},
   "source": [
    "I saved my OPEN AI KEY as a csv file"
   ]
  },
  {
   "cell_type": "code",
   "execution_count": 6,
   "id": "49b331e7-ba90-4c99-a1e5-e6f377c5d9ed",
   "metadata": {},
   "outputs": [],
   "source": [
    "k = pd.read_csv(\"keys.csv\")"
   ]
  },
  {
   "cell_type": "code",
   "execution_count": 7,
   "id": "4c6e9d81-5431-4051-a1a0-dc7838db2671",
   "metadata": {},
   "outputs": [],
   "source": [
    "from pandasai.llm import OpenAI\n",
    "llm = OpenAI(api_token=k[\"key\"][0], temperature=0) ## <- REPLACE WITH YOUR OWN OPEN AI KEY"
   ]
  },
  {
   "cell_type": "code",
   "execution_count": 8,
   "id": "ae43d022-f916-4b97-bca9-bdca6a0c42fd",
   "metadata": {},
   "outputs": [
    {
     "data": {
      "text/plain": [
       "2"
      ]
     },
     "execution_count": 8,
     "metadata": {},
     "output_type": "execute_result"
    }
   ],
   "source": [
    "sdf = SmartDataframe(df, config={\"llm\": llm})\n",
    "sdf.chat('How many different Locations are there in the table?')"
   ]
  },
  {
   "cell_type": "code",
   "execution_count": 10,
   "id": "e671f571-dc83-4774-a8a3-3c4843b60e6b",
   "metadata": {},
   "outputs": [
    {
     "data": {
      "text/plain": [
       "3337.0"
      ]
     },
     "execution_count": 10,
     "metadata": {},
     "output_type": "execute_result"
    }
   ],
   "source": [
    "sdf = SmartDataframe(df, config={\"llm\": llm})\n",
    "sdf.chat('What is the sum of the Lemon column?')"
   ]
  },
  {
   "cell_type": "code",
   "execution_count": 11,
   "id": "fe29010a-4a39-4533-8e82-0ae9bb1aa5e3",
   "metadata": {},
   "outputs": [
    {
     "data": {
      "text/plain": [
       "3337.0"
      ]
     },
     "execution_count": 11,
     "metadata": {},
     "output_type": "execute_result"
    }
   ],
   "source": [
    "df[\"Lemon\"].sum()"
   ]
  },
  {
   "cell_type": "code",
   "execution_count": 12,
   "id": "80295bef-2767-407e-a468-61f8a22a244d",
   "metadata": {},
   "outputs": [
    {
     "data": {
      "text/plain": [
       "78.87096774193549"
      ]
     },
     "execution_count": 12,
     "metadata": {},
     "output_type": "execute_result"
    }
   ],
   "source": [
    "sdf = SmartDataframe(df, config={\"llm\": llm})\n",
    "sdf.chat('What is the average temperature?')"
   ]
  },
  {
   "cell_type": "code",
   "execution_count": 13,
   "id": "768dbbb5-1f15-4d3e-bfbd-d056476b7bd3",
   "metadata": {},
   "outputs": [
    {
     "data": {
      "text/plain": [
       "78.87096774193549"
      ]
     },
     "execution_count": 13,
     "metadata": {},
     "output_type": "execute_result"
    }
   ],
   "source": [
    "df[\"Temperature\"].mean()"
   ]
  }
 ],
 "metadata": {
  "kernelspec": {
   "display_name": "default:Python",
   "language": "python",
   "name": "conda-env-default-py"
  },
  "language_info": {
   "codemirror_mode": {
    "name": "ipython",
    "version": 3
   },
   "file_extension": ".py",
   "mimetype": "text/x-python",
   "name": "python",
   "nbconvert_exporter": "python",
   "pygments_lexer": "ipython3",
   "version": "3.9.10"
  }
 },
 "nbformat": 4,
 "nbformat_minor": 5
}
